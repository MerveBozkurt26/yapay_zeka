{
 "cells": [
  {
   "cell_type": "markdown",
   "id": "96fbbea4-151c-4f7a-826f-fcb86e2c991c",
   "metadata": {},
   "source": [
    "**numpy**"
   ]
  },
  {
   "cell_type": "code",
   "execution_count": 31,
   "id": "1832eea5-09c3-4d97-87b9-b81a2258c36a",
   "metadata": {},
   "outputs": [],
   "source": [
    "import numpy as np # numpy kütüphanesini np takma adı ile projeye dahil olur"
   ]
  },
  {
   "cell_type": "code",
   "execution_count": 6,
   "id": "77d7cd2d-6be5-4c46-b5f6-d674c397abfa",
   "metadata": {},
   "outputs": [
    {
     "data": {
      "text/plain": [
       "array([1, 2, 3])"
      ]
     },
     "execution_count": 6,
     "metadata": {},
     "output_type": "execute_result"
    }
   ],
   "source": [
    "# yeni bir numpy dizisi oluşturuyoruz\n",
    "np.array([1,2,3])"
   ]
  },
  {
   "cell_type": "code",
   "execution_count": 5,
   "id": "6c7fe6de-d63f-4b73-8596-8f91d7a341a7",
   "metadata": {},
   "outputs": [
    {
     "data": {
      "text/plain": [
       "array([[5, 5, 5],\n",
       "       [5, 5, 5],\n",
       "       [5, 5, 5],\n",
       "       [5, 5, 5]])"
      ]
     },
     "execution_count": 5,
     "metadata": {},
     "output_type": "execute_result"
    }
   ],
   "source": [
    "dizi=np.full((4,3),5)#çoklu satır ve sütun veriyor 5 değerini veriyor\n",
    "dizi"
   ]
  },
  {
   "cell_type": "code",
   "execution_count": 9,
   "id": "0b2b1155-4377-4847-b5c6-817e6e26631a",
   "metadata": {},
   "outputs": [],
   "source": [
    "#oluşturduğumuz diziyi bir değişkene aktarıyoruz\n",
    "dizi=np.array([\"elma\",\"erik\",\"iğde\"])"
   ]
  },
  {
   "cell_type": "code",
   "execution_count": 15,
   "id": "d399cebf-b90c-44cf-97f3-b2160f98e8c9",
   "metadata": {},
   "outputs": [
    {
     "data": {
      "text/plain": [
       "array([1.  , 2.  , 3.14])"
      ]
     },
     "execution_count": 15,
     "metadata": {},
     "output_type": "execute_result"
    }
   ],
   "source": [
    "dizi"
   ]
  },
  {
   "cell_type": "code",
   "execution_count": 16,
   "id": "60d168df-06dd-43ca-ae78-bcc69bda2a6a",
   "metadata": {},
   "outputs": [],
   "source": [
    "dizi=np.array([1,2,3])"
   ]
  },
  {
   "cell_type": "code",
   "execution_count": 14,
   "id": "6a73ffed-751c-48d1-bcf8-8479ededeaf4",
   "metadata": {},
   "outputs": [],
   "source": [
    "dizi=np.array([1,2,3.14])"
   ]
  },
  {
   "cell_type": "code",
   "execution_count": null,
   "id": "3ebe095e-4bc6-459e-8251-859653b068d2",
   "metadata": {},
   "outputs": [],
   "source": [
    "dizi.type #dizinin değişken türünü verir. numpy dizilerinde elemanların hepsi aynı türdendir "
   ]
  },
  {
   "cell_type": "code",
   "execution_count": null,
   "id": "a285dc49-ab6d-4530-969e-a6f6386390e1",
   "metadata": {},
   "outputs": [],
   "source": [
    "dtype('float64')"
   ]
  },
  {
   "cell_type": "code",
   "execution_count": 28,
   "id": "0a542b6d-dac6-4157-9593-9e57813b6a6f",
   "metadata": {},
   "outputs": [],
   "source": [
    "dizi=np.array([1,2,3.14], dtype=int)"
   ]
  },
  {
   "cell_type": "markdown",
   "id": "acf08aae-51b3-4f11-9b40-3877c3631eb9",
   "metadata": {},
   "source": [
    "**numpy farklı boyut dizileri**"
   ]
  },
  {
   "cell_type": "code",
   "execution_count": 54,
   "id": "d3a256db-2367-4f31-8904-f748779cef6a",
   "metadata": {},
   "outputs": [],
   "source": [
    "#bir boyutlu dizi oluşturma\n",
    "birboyut=np.array([1, 2, 3, 4])\n",
    "#iki boyutlu dizi oluşturma\n",
    "ikiboyut=np.array([[1, 2, 3, 4], [5, 6, 7, 8], [9, 10, 11, 12]]) "
   ]
  },
  {
   "cell_type": "code",
   "execution_count": 50,
   "id": "9e5ea41a-1549-4e16-82b1-781e45dde86e",
   "metadata": {},
   "outputs": [
    {
     "data": {
      "text/plain": [
       "array([1, 2, 3, 4])"
      ]
     },
     "execution_count": 50,
     "metadata": {},
     "output_type": "execute_result"
    }
   ],
   "source": [
    "birboyut"
   ]
  },
  {
   "cell_type": "code",
   "execution_count": 55,
   "id": "bc206acb-dfc7-47d1-9669-a440790ae963",
   "metadata": {},
   "outputs": [
    {
     "data": {
      "text/plain": [
       "array([[ 1,  2,  3,  4],\n",
       "       [ 5,  6,  7,  8],\n",
       "       [ 9, 10, 11, 12]])"
      ]
     },
     "execution_count": 55,
     "metadata": {},
     "output_type": "execute_result"
    }
   ],
   "source": [
    "ikiboyut"
   ]
  },
  {
   "cell_type": "markdown",
   "id": "d19445f6-5d63-4648-8202-a033db329c16",
   "metadata": {},
   "source": [
    "**numpy yer tutucuları**"
   ]
  },
  {
   "cell_type": "code",
   "execution_count": 47,
   "id": "e6ae0549-1774-4456-a1b5-45180f7d77a3",
   "metadata": {},
   "outputs": [
    {
     "data": {
      "text/plain": [
       "array([0., 0., 0., 0., 0., 0., 0.])"
      ]
     },
     "execution_count": 47,
     "metadata": {},
     "output_type": "execute_result"
    }
   ],
   "source": [
    "np.zeros(7)#7 sıfırdan tek oluşan tek boyutlu dizi oluşturur"
   ]
  },
  {
   "cell_type": "code",
   "execution_count": 56,
   "id": "50bb89a0-de8f-4f3a-8683-7742b39c247d",
   "metadata": {},
   "outputs": [
    {
     "data": {
      "text/plain": [
       "array([[0, 0, 0],\n",
       "       [0, 0, 0]])"
      ]
     },
     "execution_count": 56,
     "metadata": {},
     "output_type": "execute_result"
    }
   ],
   "source": [
    "np.zeros((2,3),dtype=int) #* sıfırdan oluşan 2 boyutlu oluşturur"
   ]
  },
  {
   "cell_type": "code",
   "execution_count": 57,
   "id": "2672bcc5-8c62-414f-9d18-3245b9da8e19",
   "metadata": {},
   "outputs": [
    {
     "data": {
      "text/plain": [
       "array([1., 1., 1.])"
      ]
     },
     "execution_count": 57,
     "metadata": {},
     "output_type": "execute_result"
    }
   ],
   "source": [
    "np.ones(3)"
   ]
  },
  {
   "cell_type": "code",
   "execution_count": 58,
   "id": "0d2dc874-932e-4cc4-8e6b-9e7d3b15aadd",
   "metadata": {},
   "outputs": [
    {
     "data": {
      "text/plain": [
       "array([[5, 5, 5],\n",
       "       [5, 5, 5],\n",
       "       [5, 5, 5],\n",
       "       [5, 5, 5]])"
      ]
     },
     "execution_count": 58,
     "metadata": {},
     "output_type": "execute_result"
    }
   ],
   "source": [
    "np.full((4,3),5)#5 sayısından oluşan 2*3 lük dizi"
   ]
  },
  {
   "cell_type": "code",
   "execution_count": 59,
   "id": "52fa5816-f1ca-4813-aed2-05ba2474bff7",
   "metadata": {},
   "outputs": [
    {
     "data": {
      "text/plain": [
       "array([ 2,  7, 12, 17])"
      ]
     },
     "execution_count": 59,
     "metadata": {},
     "output_type": "execute_result"
    }
   ],
   "source": [
    "np.arange(2,22,5) #başlangıç, bitiş ve artış değerine göre oluşturma"
   ]
  },
  {
   "cell_type": "code",
   "execution_count": 60,
   "id": "40d564ae-2393-4f0d-a99f-b98d3108e3d4",
   "metadata": {},
   "outputs": [
    {
     "data": {
      "text/plain": [
       "array([ 2.        ,  3.33333333,  4.66666667,  6.        ,  7.33333333,\n",
       "        8.66666667, 10.        ])"
      ]
     },
     "execution_count": 60,
     "metadata": {},
     "output_type": "execute_result"
    }
   ],
   "source": [
    "np.linspace(2,10,num=7) #başlangıç ve bitiş değeri aralığında belirtilen miktarda eşit aralık"
   ]
  },
  {
   "cell_type": "code",
   "execution_count": 61,
   "id": "13aa9f30-852b-4bdc-a7dd-68c0c2dd4406",
   "metadata": {},
   "outputs": [
    {
     "data": {
      "text/plain": [
       "array([5, 2, 4, 5, 6])"
      ]
     },
     "execution_count": 61,
     "metadata": {},
     "output_type": "execute_result"
    }
   ],
   "source": [
    "np.random.randint(0,10,5)#0-10 arasında rastgele 5 sayıdan oluşan bir boyut dizi "
   ]
  },
  {
   "cell_type": "code",
   "execution_count": 62,
   "id": "6bce212c-63b5-449a-96d6-b346020c0baa",
   "metadata": {},
   "outputs": [
    {
     "data": {
      "text/plain": [
       "array([[2, 1],\n",
       "       [9, 1],\n",
       "       [0, 5],\n",
       "       [9, 9],\n",
       "       [4, 4]])"
      ]
     },
     "execution_count": 62,
     "metadata": {},
     "output_type": "execute_result"
    }
   ],
   "source": [
    "np.random.randint(0,10,(5,2))#0-10 aralığında  5*2 rastgele sayıdan oluşan 2 boyutlu bir dizi "
   ]
  },
  {
   "cell_type": "markdown",
   "id": "36638c6d-8f2f-4af8-be9c-1ba81e0651ca",
   "metadata": {},
   "source": [
    "**dizi ile işlemler**"
   ]
  },
  {
   "cell_type": "code",
   "execution_count": 64,
   "id": "d2bafbeb-4e5d-4048-b9d3-5c20e1b39fa7",
   "metadata": {},
   "outputs": [
    {
     "data": {
      "text/plain": [
       "(3, 4)"
      ]
     },
     "execution_count": 64,
     "metadata": {},
     "output_type": "execute_result"
    }
   ],
   "source": [
    "#dizilerin eleman sayısını öğrenmek için shape komutu kullanılır\n",
    "dizi=np.array([[1,2,3,4],[5,6,7,8],[9,10,11,12]])\n",
    "dizi.shape"
   ]
  },
  {
   "cell_type": "code",
   "execution_count": 65,
   "id": "15412df0-4096-4bb0-b538-535ac724daba",
   "metadata": {},
   "outputs": [
    {
     "data": {
      "text/plain": [
       "2"
      ]
     },
     "execution_count": 65,
     "metadata": {},
     "output_type": "execute_result"
    }
   ],
   "source": [
    "#ndim dizi boyutu öğrenmek için kullanılır\n",
    "dizi.ndim"
   ]
  },
  {
   "cell_type": "code",
   "execution_count": 66,
   "id": "41ea2d38-707f-4ff1-a0a8-f4b243a91266",
   "metadata": {},
   "outputs": [
    {
     "data": {
      "text/plain": [
       "12"
      ]
     },
     "execution_count": 66,
     "metadata": {},
     "output_type": "execute_result"
    }
   ],
   "source": [
    "#size dizisindeki toplam eleman sayısını gösterir\n",
    "dizi.size"
   ]
  },
  {
   "cell_type": "code",
   "execution_count": 67,
   "id": "17ed828c-baaa-4f7b-8336-3437135c5a5c",
   "metadata": {},
   "outputs": [
    {
     "data": {
      "text/plain": [
       "4"
      ]
     },
     "execution_count": 67,
     "metadata": {},
     "output_type": "execute_result"
    }
   ],
   "source": [
    "dizi.itemsize #dizideki her bir elemanın bayt cinsindeki verir"
   ]
  },
  {
   "cell_type": "code",
   "execution_count": null,
   "id": "e16fdd36-44a8-4864-9831-ea15478137cd",
   "metadata": {},
   "outputs": [],
   "source": []
  }
 ],
 "metadata": {
  "kernelspec": {
   "display_name": "Python 3 (ipykernel)",
   "language": "python",
   "name": "python3"
  },
  "language_info": {
   "codemirror_mode": {
    "name": "ipython",
    "version": 3
   },
   "file_extension": ".py",
   "mimetype": "text/x-python",
   "name": "python",
   "nbconvert_exporter": "python",
   "pygments_lexer": "ipython3",
   "version": "3.11.7"
  }
 },
 "nbformat": 4,
 "nbformat_minor": 5
}
