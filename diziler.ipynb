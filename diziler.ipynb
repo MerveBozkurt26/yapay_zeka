{
 "cells": [
  {
   "cell_type": "code",
   "execution_count": 1,
   "id": "45ec7790-78bb-496e-b049-f77c13def4bf",
   "metadata": {},
   "outputs": [],
   "source": [
    "import numpy as np #numpy kütüphanesi np olarak ekler.\n",
    "dizi1=np.array([1,2,3]) #numpy dizisi oluştur.\n",
    "dizi2=np.array([\"elma\",\"armut\",\"şeftali\"]) #numpy dizisini atama işlemi yapar.\n",
    "dizi3=np.array([1,2,3,3.14])\n",
    "dizi #dizilerinin avantajı içindeki verilere göre kendisini tek tip olarak ayarlamasıdır."
   ]
  },
  {
   "cell_type": "code",
   "execution_count": null,
   "id": "0fe9c4e3-1e37-4c28-9f69-d9b2b9e6ac36",
   "metadata": {},
   "outputs": [],
   "source": [
    "dizi4=np.array([1,2,3,3.14],dtype=int)\n",
    "dizi # dizilerini tanımlama sırasında dizideki tüm elemanları tek tipe dönüştürme işlemi\n",
    "gerçekleştirilebilir.\n",
    "dizi5=birboyut=np.array([1,2,3])\n",
    "birboyut #import ettikten sonra aşağıdaki kodları yazarak bir boyutlu dizi\n",
    "oluşturunuz."
   ]
  },
  {
   "cell_type": "code",
   "execution_count": null,
   "id": "d13434e2-f2dd-41c9-b8cc-cbd973eedb1e",
   "metadata": {},
   "outputs": [],
   "source": [
    "dizi6=ikiboyut = np.array([[1,2,3], [4,5,6]])\n",
    "ikiboyut #iki boyut olarak yazılır\n",
    "dizi7=ucboyut= np.array([[[1,2,3], [4,5,6]], [[1,2,3], [4,5,6]]])\n",
    "ucboyut #üç boyut olarak yazılır."
   ]
  }
 ],
 "metadata": {
  "kernelspec": {
   "display_name": "Python 3 (ipykernel)",
   "language": "python",
   "name": "python3"
  },
  "language_info": {
   "codemirror_mode": {
    "name": "ipython",
    "version": 3
   },
   "file_extension": ".py",
   "mimetype": "text/x-python",
   "name": "python",
   "nbconvert_exporter": "python",
   "pygments_lexer": "ipython3",
   "version": "3.11.7"
  }
 },
 "nbformat": 4,
 "nbformat_minor": 5
}
