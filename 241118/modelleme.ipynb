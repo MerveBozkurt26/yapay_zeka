{
 "cells": [
  {
   "cell_type": "code",
   "execution_count": 9,
   "id": "1b0f8f11-0d41-4098-b3c4-a710adac8637",
   "metadata": {},
   "outputs": [],
   "source": [
    "import pandas as pd \n",
    "import numpy as np"
   ]
  },
  {
   "cell_type": "code",
   "execution_count": null,
   "id": "1726a5ba-2448-4075-a292-2f86e54989fe",
   "metadata": {},
   "outputs": [],
   "source": [
    "# 1. veri setini yükleyelim.\n",
    "df=pd.read_csv(\"turkey_car_markert.csv\")\n",
    "# veri setinin ilk 5 satırına bakalım\n",
    "df.head(5) "
   ]
  },
  {
   "cell_type": "code",
   "execution_count": null,
   "id": "7f15fbc5-8c22-475f-b648-0c48dc5eb625",
   "metadata": {},
   "outputs": [],
   "source": [
    "#'İlan Tarihi','Arac Tip Grubu','Arac Tip' gibi sütunlarını kaldırma\n",
    "df= df.drop(['İlan Tarihi','Arac Tip Grubu','Arac Tip','CCM','Beygir Gucu'])\n",
    "df"
   ]
  },
  {
   "cell_type": "code",
   "execution_count": null,
   "id": "30b426d6-85eb-4d90-935c-393d103b9eaa",
   "metadata": {},
   "outputs": [],
   "source": [
    "df=df.drop(['İlan Tarihi','Arac Tip Grubu','Arac Tip','CCM','Beygir Gucu',''])"
   ]
  },
  {
   "cell_type": "code",
   "execution_count": null,
   "id": "73bb7888-51dc-4f98-89e2-651de909aed4",
   "metadata": {},
   "outputs": [],
   "source": [
    "#Kategorik verileri sayısal verilere dönüştürelim (Label Encoding)\n"
   ]
  }
 ],
 "metadata": {
  "kernelspec": {
   "display_name": "Python 3 (ipykernel)",
   "language": "python",
   "name": "python3"
  },
  "language_info": {
   "codemirror_mode": {
    "name": "ipython",
    "version": 3
   },
   "file_extension": ".py",
   "mimetype": "text/x-python",
   "name": "python",
   "nbconvert_exporter": "python",
   "pygments_lexer": "ipython3",
   "version": "3.11.7"
  }
 },
 "nbformat": 4,
 "nbformat_minor": 5
}
