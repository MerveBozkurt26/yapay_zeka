{
 "cells": [
  {
   "cell_type": "code",
   "execution_count": 2,
   "id": "d943aeef-0c2a-4520-a732-237fcf40df98",
   "metadata": {},
   "outputs": [],
   "source": [
    "import pandas as pd"
   ]
  },
  {
   "cell_type": "code",
   "execution_count": null,
   "id": "a29e04f0-6ff1-4edb-83ec-e31d6407baa2",
   "metadata": {},
   "outputs": [],
   "source": [
    "Index(['Poster_Link', 'Series_Title', 'Released_Year', 'Certificate',\n",
    "       'Runtime', 'Genre', 'IMDB_Rating', 'Overview', 'Meta_score', 'Director',\n",
    "       'Star1', 'Star2', 'Star3', 'Star4', 'No_of_Votes', 'Gross'],\n",
    "      dtype='object')"
   ]
  },
  {
   "cell_type": "code",
   "execution_count": null,
   "id": "01a97257-aaea-489e-9d68-c11ce963f8ac",
   "metadata": {},
   "outputs": [],
   "source": [
    "df.drop(['Poster_Link', 'Series_Title','Poster_Link', 'Series_Title','Overview'],axis=1,inplace=True)"
   ]
  },
  {
   "cell_type": "code",
   "execution_count": null,
   "id": "edce1616-a2d9-421e-9ecf-a93544efe391",
   "metadata": {},
   "outputs": [],
   "source": [
    "df['Certificate'].fillna('U',inplace=True)\n",
    "\n",
    "df['Meta_score'].fillna(df['Meta_score'].mean(),inplace=True)"
   ]
  },
  {
   "cell_type": "code",
   "execution_count": null,
   "id": "719fea54-9e95-42c4-ba2a-003a46e13b28",
   "metadata": {},
   "outputs": [],
   "source": [
    "df[\"Gross\"] = df[\"Gross\"].str.replace(\",\",\"\")\n",
    "df[\"Gross\"] = df[\"Gross\"].replace(np.nan, 0)\n",
    "df[\"Gross\"] = df[\"Gross\"].astype(int)\n",
    "df[\"Gross\"] = df[\"Gross\"].replace(0,df['Gross'].mean())"
   ]
  },
  {
   "cell_type": "code",
   "execution_count": null,
   "id": "3918e47a-52b8-4b97-a2ee-0e3dd07f5be8",
   "metadata": {},
   "outputs": [],
   "source": [
    "df[\"Runtime\"] = df[\"Runtime\"].str.extract('([^\\s]+)')\n",
    "df[\"Runtime\"] = df[\"Runtime\"][~(df[\"Runtime\"] == \"min\")]\n",
    "df[\"Runtime\"] = df[\"Runtime\"].astype(int)"
   ]
  },
  {
   "cell_type": "code",
   "execution_count": null,
   "id": "a0e1e848-3235-4a07-b11b-01c6342fa1fd",
   "metadata": {},
   "outputs": [],
   "source": [
    "df = df.drop(labels=966, axis=0)"
   ]
  },
  {
   "cell_type": "code",
   "execution_count": null,
   "id": "22ef9a68-bdc2-4380-b545-017da13edba6",
   "metadata": {},
   "outputs": [],
   "source": [
    "plt.figure(figsize=(15,8))\n",
    "sns.countplot('Certificate',color='#B7950B',data=df)\n",
    "plt.xticks(rotation = 'vertical'"
   ]
  },
  {
   "cell_type": "code",
   "execution_count": null,
   "id": "c73569db-b14c-4f28-b42f-9d9835b2f76c",
   "metadata": {},
   "outputs": [],
   "source": [
    "top_rates=df.groupby('Genre').mean().sort_values('IMDB_Rating',ascending=False).head(10)\n",
    "top_rates = top_rates[['IMDB_Rating']].round(2)\n",
    "top_rates.reset_index(inplace=True)\n",
    "top_rates"
   ]
  },
  {
   "cell_type": "code",
   "execution_count": null,
   "id": "7fefd28e-c064-4c0e-8bae-2180ea7e332f",
   "metadata": {},
   "outputs": [],
   "source": [
    "plt.figure(figsize=(15,8))\n",
    "plt.bar(top_rates['Genre'],top_rates['IMDB_Rating'],color='#B7950B',edgecolor='black' )\n",
    "plt.xticks(rotation='vertical')\n",
    "for k,v in top_rates['IMDB_Rating'].items():\n",
    "    plt.text(k,v-2,str(v),rotation=90)"
   ]
  },
  {
   "cell_type": "code",
   "execution_count": null,
   "id": "c7d71100-cc4a-4000-af07-8a8638495ac0",
   "metadata": {},
   "outputs": [],
   "source": [
    "top_rates=df.groupby('Genre').mean().sort_values('Meta_score',ascending=False).head(10)\n",
    "top_rates = top_rates[['Meta_score']].round(2)\n",
    "top_rates.reset_index(inplace=True)\n",
    "\n",
    "plt.figure(figsize=(15,8))\n",
    "plt.bar(top_rates['Genre'],top_rates['Meta_score'],color='#B7950B',edgecolor='black' )\n",
    "plt.xticks(rotation='vertical')\n",
    "for k,v in top_rates['Meta_score'].items():\n",
    "    plt.text(k,v-11,str(v),rotation=90)"
   ]
  },
  {
   "cell_type": "code",
   "execution_count": null,
   "id": "8aa3f42c-d932-4a5d-b003-54af5a478209",
   "metadata": {},
   "outputs": [],
   "source": [
    "top_earn = df.groupby('Genre').sum().sort_values('Gross',ascending=False).head(10)\n",
    "top_earn=top_earn[['Gross']]\n",
    "top_earn.reset_index(inplace=True)\n",
    "\n",
    "plt.figure(figsize=(15,8))\n",
    "plt.bar(top_earn['Genre'],top_earn['Gross'],color='#B7950B',edgecolor='black')\n",
    "plt.xticks(rotation='vertical')\n",
    "for k,v in top_earn['Gross'].items():\n",
    "    plt.text(k,v-1450000000,str(v),rotation=90)"
   ]
  },
  {
   "cell_type": "code",
   "execution_count": null,
   "id": "2dc64d1b-ebf2-4d70-add9-b78b7200e368",
   "metadata": {},
   "outputs": [],
   "source": [
    "plt.figure(figsize=(15,8))\n",
    "sns.barplot(x='Certificate',y='Gross',color='#B7950B',data=df,ci=False)\n",
    "plt.xticks(rotation='vertical')"
   ]
  },
  {
   "cell_type": "code",
   "execution_count": null,
   "id": "9970c952-27f7-4bab-b67a-f8652d46ea72",
   "metadata": {},
   "outputs": [],
   "source": [
    "top_director=df.groupby('Director').mean().sort_values('Gross').head(10)\n",
    "top_director=top_director[['IMDB_Rating']]\n",
    "top_director.reset_index(inplace=True)\n",
    "\n",
    "plt.figure(figsize=(15,8))\n",
    "sns.barplot(x='Director',y='IMDB_Rating',data=top_director,color='#B7950B',edgecolor='black')\n",
    "plt.xticks(rotation='vertical')\n",
    "\n",
    "for k,v in top_director['IMDB_Rating'].items():\n",
    "    plt.text(k,v-2,str(v),rotation=90)"
   ]
  },
  {
   "cell_type": "code",
   "execution_count": null,
   "id": "9556f527-fe68-4608-9afb-ac49b3ceca75",
   "metadata": {},
   "outputs": [],
   "source": [
    "plt.figure(figsize=(10,8))\n",
    "sns.regplot(x='IMDB_Rating',y='Gross',data=df,color='#F1C40F')"
   ]
  },
  {
   "cell_type": "code",
   "execution_count": null,
   "id": "f9959848-897a-417c-91fa-e613ca0ac41d",
   "metadata": {},
   "outputs": [],
   "source": [
    "plt.figure(figsize=(10,8))\n",
    "sns.regplot(x='Meta_score',y='Gross',data=df,color='#F1C40F')"
   ]
  },
  {
   "cell_type": "code",
   "execution_count": null,
   "id": "58bcf45a-fd4b-48a9-80dd-62930efa2770",
   "metadata": {},
   "outputs": [],
   "source": [
    "plt.figure(figsize=(10,8))\n",
    "sns.regplot('Runtime','IMDB_Rating',data=df,color='#F1C40F')"
   ]
  },
  {
   "cell_type": "code",
   "execution_count": null,
   "id": "020af1a0-4575-4b25-856e-9fcc1149b018",
   "metadata": {},
   "outputs": [],
   "source": [
    "plt.figure(figsize=(10,8))\n",
    "sns.regplot('Runtime','Meta_score',data=df,color='#F1C40F')"
   ]
  },
  {
   "cell_type": "code",
   "execution_count": null,
   "id": "69ecb8a6-d27d-4e4b-a28d-8fba17e67654",
   "metadata": {},
   "outputs": [],
   "source": []
  }
 ],
 "metadata": {
  "kernelspec": {
   "display_name": "Python 3 (ipykernel)",
   "language": "python",
   "name": "python3"
  },
  "language_info": {
   "codemirror_mode": {
    "name": "ipython",
    "version": 3
   },
   "file_extension": ".py",
   "mimetype": "text/x-python",
   "name": "python",
   "nbconvert_exporter": "python",
   "pygments_lexer": "ipython3",
   "version": "3.11.7"
  }
 },
 "nbformat": 4,
 "nbformat_minor": 5
}
